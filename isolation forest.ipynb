{
 "cells": [
  {
   "cell_type": "code",
   "execution_count": 1,
   "id": "ca29267d",
   "metadata": {},
   "outputs": [],
   "source": [
    "import pandas as pd\n",
    "from sklearn.ensemble import IsolationForest\n",
    "from sklearn.preprocessing import StandardScaler\n",
    "import warnings\n",
    "warnings.filterwarnings('ignore')"
   ]
  },
  {
   "cell_type": "code",
   "execution_count": 2,
   "id": "3cfe72f5",
   "metadata": {},
   "outputs": [],
   "source": [
    "data = pd.read_csv('Midterm_53_group.csv')"
   ]
  },
  {
   "cell_type": "code",
   "execution_count": 3,
   "id": "469f625a",
   "metadata": {},
   "outputs": [
    {
     "data": {
      "text/html": [
       "<div>\n",
       "<style scoped>\n",
       "    .dataframe tbody tr th:only-of-type {\n",
       "        vertical-align: middle;\n",
       "    }\n",
       "\n",
       "    .dataframe tbody tr th {\n",
       "        vertical-align: top;\n",
       "    }\n",
       "\n",
       "    .dataframe thead th {\n",
       "        text-align: right;\n",
       "    }\n",
       "</style>\n",
       "<table border=\"1\" class=\"dataframe\">\n",
       "  <thead>\n",
       "    <tr style=\"text-align: right;\">\n",
       "      <th></th>\n",
       "      <th>Time</th>\n",
       "      <th>Source</th>\n",
       "      <th>No.</th>\n",
       "      <th>Destination</th>\n",
       "      <th>Protocol</th>\n",
       "      <th>Length</th>\n",
       "      <th>Info</th>\n",
       "    </tr>\n",
       "  </thead>\n",
       "  <tbody>\n",
       "    <tr>\n",
       "      <th>0</th>\n",
       "      <td>0.000000</td>\n",
       "      <td>192.167.8.166</td>\n",
       "      <td>1</td>\n",
       "      <td>192.167.255.255</td>\n",
       "      <td>NBNS</td>\n",
       "      <td>92</td>\n",
       "      <td>Name query NB WPAD&lt;00&gt;</td>\n",
       "    </tr>\n",
       "    <tr>\n",
       "      <th>1</th>\n",
       "      <td>0.784682</td>\n",
       "      <td>192.167.8.166</td>\n",
       "      <td>2</td>\n",
       "      <td>192.167.255.255</td>\n",
       "      <td>NBNS</td>\n",
       "      <td>92</td>\n",
       "      <td>Name query NB WPAD&lt;00&gt;</td>\n",
       "    </tr>\n",
       "    <tr>\n",
       "      <th>2</th>\n",
       "      <td>1.169060</td>\n",
       "      <td>VMware_8a:5c:e6</td>\n",
       "      <td>3</td>\n",
       "      <td>Broadcast</td>\n",
       "      <td>ARP</td>\n",
       "      <td>60</td>\n",
       "      <td>Who has 192.167.7.175? Tell 192.167.0.1</td>\n",
       "    </tr>\n",
       "    <tr>\n",
       "      <th>3</th>\n",
       "      <td>2.167949</td>\n",
       "      <td>VMware_8a:5c:e6</td>\n",
       "      <td>4</td>\n",
       "      <td>Broadcast</td>\n",
       "      <td>ARP</td>\n",
       "      <td>60</td>\n",
       "      <td>Who has 192.167.7.175? Tell 192.167.0.1</td>\n",
       "    </tr>\n",
       "    <tr>\n",
       "      <th>4</th>\n",
       "      <td>3.170095</td>\n",
       "      <td>VMware_8a:5c:e6</td>\n",
       "      <td>5</td>\n",
       "      <td>Broadcast</td>\n",
       "      <td>ARP</td>\n",
       "      <td>60</td>\n",
       "      <td>Who has 192.167.7.175? Tell 192.167.0.1</td>\n",
       "    </tr>\n",
       "    <tr>\n",
       "      <th>...</th>\n",
       "      <td>...</td>\n",
       "      <td>...</td>\n",
       "      <td>...</td>\n",
       "      <td>...</td>\n",
       "      <td>...</td>\n",
       "      <td>...</td>\n",
       "      <td>...</td>\n",
       "    </tr>\n",
       "    <tr>\n",
       "      <th>394131</th>\n",
       "      <td>1255.897236</td>\n",
       "      <td>192.167.7.162</td>\n",
       "      <td>394132</td>\n",
       "      <td>192.167.7.164</td>\n",
       "      <td>ICMP</td>\n",
       "      <td>98</td>\n",
       "      <td>Echo (ping) request  id=0x6592, seq=1177/39172...</td>\n",
       "    </tr>\n",
       "    <tr>\n",
       "      <th>394132</th>\n",
       "      <td>1255.897921</td>\n",
       "      <td>192.167.7.164</td>\n",
       "      <td>394133</td>\n",
       "      <td>192.167.7.162</td>\n",
       "      <td>ICMP</td>\n",
       "      <td>98</td>\n",
       "      <td>Echo (ping) reply    id=0x6592, seq=1177/39172...</td>\n",
       "    </tr>\n",
       "    <tr>\n",
       "      <th>394133</th>\n",
       "      <td>1255.993209</td>\n",
       "      <td>192.167.7.162</td>\n",
       "      <td>394134</td>\n",
       "      <td>142.250.190.97</td>\n",
       "      <td>TCP</td>\n",
       "      <td>74</td>\n",
       "      <td>[TCP Retransmission] [TCP Port numbers reused]...</td>\n",
       "    </tr>\n",
       "    <tr>\n",
       "      <th>394134</th>\n",
       "      <td>1256.921232</td>\n",
       "      <td>192.167.7.162</td>\n",
       "      <td>394135</td>\n",
       "      <td>192.167.7.164</td>\n",
       "      <td>ICMP</td>\n",
       "      <td>98</td>\n",
       "      <td>Echo (ping) request  id=0x6592, seq=1178/39428...</td>\n",
       "    </tr>\n",
       "    <tr>\n",
       "      <th>394135</th>\n",
       "      <td>1256.922008</td>\n",
       "      <td>192.167.7.164</td>\n",
       "      <td>394136</td>\n",
       "      <td>192.167.7.162</td>\n",
       "      <td>ICMP</td>\n",
       "      <td>98</td>\n",
       "      <td>Echo (ping) reply    id=0x6592, seq=1178/39428...</td>\n",
       "    </tr>\n",
       "  </tbody>\n",
       "</table>\n",
       "<p>394136 rows × 7 columns</p>\n",
       "</div>"
      ],
      "text/plain": [
       "               Time           Source     No.      Destination Protocol  \\\n",
       "0          0.000000    192.167.8.166       1  192.167.255.255     NBNS   \n",
       "1          0.784682    192.167.8.166       2  192.167.255.255     NBNS   \n",
       "2          1.169060  VMware_8a:5c:e6       3        Broadcast      ARP   \n",
       "3          2.167949  VMware_8a:5c:e6       4        Broadcast      ARP   \n",
       "4          3.170095  VMware_8a:5c:e6       5        Broadcast      ARP   \n",
       "...             ...              ...     ...              ...      ...   \n",
       "394131  1255.897236    192.167.7.162  394132    192.167.7.164     ICMP   \n",
       "394132  1255.897921    192.167.7.164  394133    192.167.7.162     ICMP   \n",
       "394133  1255.993209    192.167.7.162  394134   142.250.190.97      TCP   \n",
       "394134  1256.921232    192.167.7.162  394135    192.167.7.164     ICMP   \n",
       "394135  1256.922008    192.167.7.164  394136    192.167.7.162     ICMP   \n",
       "\n",
       "        Length                                               Info  \n",
       "0           92                             Name query NB WPAD<00>  \n",
       "1           92                             Name query NB WPAD<00>  \n",
       "2           60            Who has 192.167.7.175? Tell 192.167.0.1  \n",
       "3           60            Who has 192.167.7.175? Tell 192.167.0.1  \n",
       "4           60            Who has 192.167.7.175? Tell 192.167.0.1  \n",
       "...        ...                                                ...  \n",
       "394131      98  Echo (ping) request  id=0x6592, seq=1177/39172...  \n",
       "394132      98  Echo (ping) reply    id=0x6592, seq=1177/39172...  \n",
       "394133      74  [TCP Retransmission] [TCP Port numbers reused]...  \n",
       "394134      98  Echo (ping) request  id=0x6592, seq=1178/39428...  \n",
       "394135      98  Echo (ping) reply    id=0x6592, seq=1178/39428...  \n",
       "\n",
       "[394136 rows x 7 columns]"
      ]
     },
     "execution_count": 3,
     "metadata": {},
     "output_type": "execute_result"
    }
   ],
   "source": [
    "data"
   ]
  },
  {
   "cell_type": "code",
   "execution_count": 4,
   "id": "e3d17fc8",
   "metadata": {},
   "outputs": [
    {
     "name": "stdout",
     "output_type": "stream",
     "text": [
      "<class 'pandas.core.frame.DataFrame'>\n",
      "RangeIndex: 394136 entries, 0 to 394135\n",
      "Data columns (total 7 columns):\n",
      " #   Column       Non-Null Count   Dtype  \n",
      "---  ------       --------------   -----  \n",
      " 0   Time         394136 non-null  float64\n",
      " 1   Source       394136 non-null  object \n",
      " 2   No.          394136 non-null  int64  \n",
      " 3   Destination  394136 non-null  object \n",
      " 4   Protocol     394136 non-null  object \n",
      " 5   Length       394136 non-null  int64  \n",
      " 6   Info         394136 non-null  object \n",
      "dtypes: float64(1), int64(2), object(4)\n",
      "memory usage: 21.0+ MB\n"
     ]
    }
   ],
   "source": [
    "data.info()"
   ]
  },
  {
   "cell_type": "code",
   "execution_count": 5,
   "id": "8b7172ae",
   "metadata": {},
   "outputs": [
    {
     "data": {
      "text/html": [
       "<div>\n",
       "<style scoped>\n",
       "    .dataframe tbody tr th:only-of-type {\n",
       "        vertical-align: middle;\n",
       "    }\n",
       "\n",
       "    .dataframe tbody tr th {\n",
       "        vertical-align: top;\n",
       "    }\n",
       "\n",
       "    .dataframe thead th {\n",
       "        text-align: right;\n",
       "    }\n",
       "</style>\n",
       "<table border=\"1\" class=\"dataframe\">\n",
       "  <thead>\n",
       "    <tr style=\"text-align: right;\">\n",
       "      <th></th>\n",
       "      <th>Time</th>\n",
       "      <th>No.</th>\n",
       "      <th>Length</th>\n",
       "    </tr>\n",
       "  </thead>\n",
       "  <tbody>\n",
       "    <tr>\n",
       "      <th>count</th>\n",
       "      <td>394136.000000</td>\n",
       "      <td>394136.000000</td>\n",
       "      <td>394136.000000</td>\n",
       "    </tr>\n",
       "    <tr>\n",
       "      <th>mean</th>\n",
       "      <td>781.599378</td>\n",
       "      <td>197068.500000</td>\n",
       "      <td>985.577027</td>\n",
       "    </tr>\n",
       "    <tr>\n",
       "      <th>std</th>\n",
       "      <td>263.603332</td>\n",
       "      <td>113777.407185</td>\n",
       "      <td>837.371336</td>\n",
       "    </tr>\n",
       "    <tr>\n",
       "      <th>min</th>\n",
       "      <td>0.000000</td>\n",
       "      <td>1.000000</td>\n",
       "      <td>42.000000</td>\n",
       "    </tr>\n",
       "    <tr>\n",
       "      <th>25%</th>\n",
       "      <td>558.184351</td>\n",
       "      <td>98534.750000</td>\n",
       "      <td>60.000000</td>\n",
       "    </tr>\n",
       "    <tr>\n",
       "      <th>50%</th>\n",
       "      <td>781.926020</td>\n",
       "      <td>197068.500000</td>\n",
       "      <td>1462.000000</td>\n",
       "    </tr>\n",
       "    <tr>\n",
       "      <th>75%</th>\n",
       "      <td>986.280803</td>\n",
       "      <td>295602.250000</td>\n",
       "      <td>1514.000000</td>\n",
       "    </tr>\n",
       "    <tr>\n",
       "      <th>max</th>\n",
       "      <td>1256.922008</td>\n",
       "      <td>394136.000000</td>\n",
       "      <td>49745.000000</td>\n",
       "    </tr>\n",
       "  </tbody>\n",
       "</table>\n",
       "</div>"
      ],
      "text/plain": [
       "                Time            No.         Length\n",
       "count  394136.000000  394136.000000  394136.000000\n",
       "mean      781.599378  197068.500000     985.577027\n",
       "std       263.603332  113777.407185     837.371336\n",
       "min         0.000000       1.000000      42.000000\n",
       "25%       558.184351   98534.750000      60.000000\n",
       "50%       781.926020  197068.500000    1462.000000\n",
       "75%       986.280803  295602.250000    1514.000000\n",
       "max      1256.922008  394136.000000   49745.000000"
      ]
     },
     "execution_count": 5,
     "metadata": {},
     "output_type": "execute_result"
    }
   ],
   "source": [
    "data.describe()"
   ]
  },
  {
   "cell_type": "code",
   "execution_count": 6,
   "id": "500b0403",
   "metadata": {},
   "outputs": [
    {
     "data": {
      "text/plain": [
       "<bound method DataFrame.isnull of                Time           Source     No.      Destination Protocol  \\\n",
       "0          0.000000    192.167.8.166       1  192.167.255.255     NBNS   \n",
       "1          0.784682    192.167.8.166       2  192.167.255.255     NBNS   \n",
       "2          1.169060  VMware_8a:5c:e6       3        Broadcast      ARP   \n",
       "3          2.167949  VMware_8a:5c:e6       4        Broadcast      ARP   \n",
       "4          3.170095  VMware_8a:5c:e6       5        Broadcast      ARP   \n",
       "...             ...              ...     ...              ...      ...   \n",
       "394131  1255.897236    192.167.7.162  394132    192.167.7.164     ICMP   \n",
       "394132  1255.897921    192.167.7.164  394133    192.167.7.162     ICMP   \n",
       "394133  1255.993209    192.167.7.162  394134   142.250.190.97      TCP   \n",
       "394134  1256.921232    192.167.7.162  394135    192.167.7.164     ICMP   \n",
       "394135  1256.922008    192.167.7.164  394136    192.167.7.162     ICMP   \n",
       "\n",
       "        Length                                               Info  \n",
       "0           92                             Name query NB WPAD<00>  \n",
       "1           92                             Name query NB WPAD<00>  \n",
       "2           60            Who has 192.167.7.175? Tell 192.167.0.1  \n",
       "3           60            Who has 192.167.7.175? Tell 192.167.0.1  \n",
       "4           60            Who has 192.167.7.175? Tell 192.167.0.1  \n",
       "...        ...                                                ...  \n",
       "394131      98  Echo (ping) request  id=0x6592, seq=1177/39172...  \n",
       "394132      98  Echo (ping) reply    id=0x6592, seq=1177/39172...  \n",
       "394133      74  [TCP Retransmission] [TCP Port numbers reused]...  \n",
       "394134      98  Echo (ping) request  id=0x6592, seq=1178/39428...  \n",
       "394135      98  Echo (ping) reply    id=0x6592, seq=1178/39428...  \n",
       "\n",
       "[394136 rows x 7 columns]>"
      ]
     },
     "execution_count": 6,
     "metadata": {},
     "output_type": "execute_result"
    }
   ],
   "source": [
    "data.isnull"
   ]
  },
  {
   "cell_type": "code",
   "execution_count": 7,
   "id": "4f0ba398",
   "metadata": {},
   "outputs": [
    {
     "data": {
      "text/plain": [
       "(394136, 7)"
      ]
     },
     "execution_count": 7,
     "metadata": {},
     "output_type": "execute_result"
    }
   ],
   "source": [
    "data.shape"
   ]
  },
  {
   "cell_type": "code",
   "execution_count": 8,
   "id": "a4b9c510",
   "metadata": {},
   "outputs": [],
   "source": [
    "data = data.fillna(method='ffill')"
   ]
  },
  {
   "cell_type": "code",
   "execution_count": 9,
   "id": "ce6db044",
   "metadata": {},
   "outputs": [],
   "source": [
    "X = data[['Time','Length']] "
   ]
  },
  {
   "cell_type": "code",
   "execution_count": 10,
   "id": "79ce381e",
   "metadata": {},
   "outputs": [
    {
     "data": {
      "text/plain": [
       "IsolationForest(contamination=0.05, random_state=42)"
      ]
     },
     "execution_count": 10,
     "metadata": {},
     "output_type": "execute_result"
    }
   ],
   "source": [
    "model = IsolationForest(contamination=0.05, random_state=42) \n",
    "model.fit(X)"
   ]
  },
  {
   "cell_type": "code",
   "execution_count": 11,
   "id": "f2d47ea5",
   "metadata": {},
   "outputs": [],
   "source": [
    "predictions = model.predict(X)"
   ]
  },
  {
   "cell_type": "code",
   "execution_count": 12,
   "id": "3cbf4053",
   "metadata": {},
   "outputs": [],
   "source": [
    "data['anomaly_prediction_if'] = predictions\n"
   ]
  },
  {
   "cell_type": "code",
   "execution_count": 13,
   "id": "32d56cbf",
   "metadata": {},
   "outputs": [],
   "source": [
    "anomalies = data[data['anomaly_prediction_if'] == -1]"
   ]
  },
  {
   "cell_type": "code",
   "execution_count": 14,
   "id": "5de39e3b",
   "metadata": {},
   "outputs": [
    {
     "name": "stdout",
     "output_type": "stream",
     "text": [
      "               Time           Source     No.      Destination Protocol  \\\n",
      "0          0.000000    192.167.8.166       1  192.167.255.255     NBNS   \n",
      "1          0.784682    192.167.8.166       2  192.167.255.255     NBNS   \n",
      "2          1.169060  VMware_8a:5c:e6       3        Broadcast      ARP   \n",
      "3          2.167949  VMware_8a:5c:e6       4        Broadcast      ARP   \n",
      "4          3.170095  VMware_8a:5c:e6       5        Broadcast      ARP   \n",
      "...             ...              ...     ...              ...      ...   \n",
      "394131  1255.897236    192.167.7.162  394132    192.167.7.164     ICMP   \n",
      "394132  1255.897921    192.167.7.164  394133    192.167.7.162     ICMP   \n",
      "394133  1255.993209    192.167.7.162  394134   142.250.190.97      TCP   \n",
      "394134  1256.921232    192.167.7.162  394135    192.167.7.164     ICMP   \n",
      "394135  1256.922008    192.167.7.164  394136    192.167.7.162     ICMP   \n",
      "\n",
      "        Length                                               Info  \\\n",
      "0           92                             Name query NB WPAD<00>   \n",
      "1           92                             Name query NB WPAD<00>   \n",
      "2           60            Who has 192.167.7.175? Tell 192.167.0.1   \n",
      "3           60            Who has 192.167.7.175? Tell 192.167.0.1   \n",
      "4           60            Who has 192.167.7.175? Tell 192.167.0.1   \n",
      "...        ...                                                ...   \n",
      "394131      98  Echo (ping) request  id=0x6592, seq=1177/39172...   \n",
      "394132      98  Echo (ping) reply    id=0x6592, seq=1177/39172...   \n",
      "394133      74  [TCP Retransmission] [TCP Port numbers reused]...   \n",
      "394134      98  Echo (ping) request  id=0x6592, seq=1178/39428...   \n",
      "394135      98  Echo (ping) reply    id=0x6592, seq=1178/39428...   \n",
      "\n",
      "        anomaly_prediction_if  \n",
      "0                          -1  \n",
      "1                          -1  \n",
      "2                          -1  \n",
      "3                          -1  \n",
      "4                          -1  \n",
      "...                       ...  \n",
      "394131                     -1  \n",
      "394132                     -1  \n",
      "394133                     -1  \n",
      "394134                     -1  \n",
      "394135                     -1  \n",
      "\n",
      "[19707 rows x 8 columns]\n"
     ]
    }
   ],
   "source": [
    "print(anomalies)"
   ]
  }
 ],
 "metadata": {
  "kernelspec": {
   "display_name": "Python 3 (ipykernel)",
   "language": "python",
   "name": "python3"
  },
  "language_info": {
   "codemirror_mode": {
    "name": "ipython",
    "version": 3
   },
   "file_extension": ".py",
   "mimetype": "text/x-python",
   "name": "python",
   "nbconvert_exporter": "python",
   "pygments_lexer": "ipython3",
   "version": "3.9.12"
  }
 },
 "nbformat": 4,
 "nbformat_minor": 5
}
